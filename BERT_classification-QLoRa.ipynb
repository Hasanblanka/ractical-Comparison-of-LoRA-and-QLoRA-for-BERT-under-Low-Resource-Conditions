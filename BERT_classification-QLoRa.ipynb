{
 "cells": [
  {
   "cell_type": "markdown",
   "id": "ad138bfc-0a90-4bf9-b00f-f00421aa47a8",
   "metadata": {},
   "source": [
    "***Libraries***"
   ]
  },
  {
   "cell_type": "code",
   "execution_count": 1,
   "id": "210745e0-e50b-4ebb-b950-019157da6050",
   "metadata": {},
   "outputs": [
    {
     "name": "stderr",
     "output_type": "stream",
     "text": [
      "C:\\Users\\Hasan Yusufzada\\AppData\\Local\\Programs\\Python\\Python313\\Lib\\site-packages\\tqdm\\auto.py:21: TqdmWarning: IProgress not found. Please update jupyter and ipywidgets. See https://ipywidgets.readthedocs.io/en/stable/user_install.html\n",
      "  from .autonotebook import tqdm as notebook_tqdm\n",
      "The 8-bit optimizer is not available on your device, only available on CUDA for now.\n"
     ]
    }
   ],
   "source": [
    "import transformers\n",
    "import datasets\n",
    "from datasets import Dataset,load_dataset,DatasetDict\n",
    "import peft\n",
    "import bitsandbytes\n",
    "import accelerate\n",
    "import evaluate\n",
    "from evaluate import evaluator\n",
    "import seqeval\n",
    "from transformers import pipeline, AutoTokenizer,AutoModelForSequenceClassification,Trainer,TrainingArguments,DataCollatorWithPadding\n",
    "from transformers import AutoModelForQuestionAnswering,BitsAndBytesConfig,AutoModelForTokenClassification,default_data_collator\n",
    "from peft import LoraConfig,get_peft_model,TaskType,PeftModel,prepare_model_for_kbit_training\n",
    "import numpy as np\n",
    "import pandas as pd \n",
    "import torch\n",
    "import os\n",
    "from tqdm import tqdm\n",
    "import scipy.stats\n",
    "metric_accuracy = evaluate.load('accuracy')\n",
    "metric_f1 = evaluate.load(\"f1\")\n",
    "metric_seqeval = evaluate.load(\"seqeval\") \n",
    "metric_squad = evaluate.load(\"squad\")\n",
    "import warnings\n",
    "warnings.filterwarnings(action = 'ignore')"
   ]
  },
  {
   "cell_type": "code",
   "execution_count": 2,
   "id": "1bbfa062-5655-4454-a084-76d7c7f8d66f",
   "metadata": {},
   "outputs": [],
   "source": [
    "from transformers import DataCollatorForTokenClassification"
   ]
  },
  {
   "cell_type": "code",
   "execution_count": 3,
   "id": "81491d61-3c08-442b-a785-9ee324c28d40",
   "metadata": {},
   "outputs": [],
   "source": [
    "import random"
   ]
  },
  {
   "cell_type": "code",
   "execution_count": 4,
   "id": "7056083c-f263-4655-9459-ced710a82361",
   "metadata": {},
   "outputs": [],
   "source": [
    "def set_seed(seed):\n",
    "    random.seed(seed)\n",
    "    np.random.seed(seed)\n",
    "    torch.manual_seed(seed)\n",
    "    if torch.cuda.is_available():\n",
    "        torch.cuda.manual_seed_all(seed)\n",
    "    torch.backends.cudnn.deterministic = True\n",
    "    torch.backends.cudnn.benchmark = False\n"
   ]
  },
  {
   "cell_type": "code",
   "execution_count": 5,
   "id": "589e16d1-c041-4cf4-85a7-3890c4786b5a",
   "metadata": {},
   "outputs": [],
   "source": [
    "set_seed(42)"
   ]
  },
  {
   "cell_type": "markdown",
   "id": "2979f6f1-f720-424c-869d-6fec3ccad40a",
   "metadata": {},
   "source": [
    "***BERT-PEFT-LORA***"
   ]
  },
  {
   "cell_type": "code",
   "execution_count": 6,
   "id": "8e37d80a-319c-40c8-b6ad-79a13660007d",
   "metadata": {},
   "outputs": [],
   "source": [
    "dataset = load_dataset(\"glue\",\"sst2\")"
   ]
  },
  {
   "cell_type": "code",
   "execution_count": 7,
   "id": "c6f800c9-682a-4820-8fa3-d055a0026811",
   "metadata": {},
   "outputs": [],
   "source": [
    "low_resource_sample = 512\n",
    "train_dataset_small = dataset[\"train\"].select(range(low_resource_sample))"
   ]
  },
  {
   "cell_type": "code",
   "execution_count": 8,
   "id": "ffdfab8f-9b9a-4e7e-a12d-5fa26bf8359f",
   "metadata": {},
   "outputs": [],
   "source": [
    "def preprocess_func(examples):\n",
    "    return tokenizer(examples[\"sentence\"],truncation = True , padding = True)"
   ]
  },
  {
   "cell_type": "code",
   "execution_count": 9,
   "id": "683ec635-1568-4377-9f77-a4e260839f0a",
   "metadata": {},
   "outputs": [],
   "source": [
    "tokenizer = AutoTokenizer.from_pretrained(\"bert-base-uncased\")"
   ]
  },
  {
   "cell_type": "code",
   "execution_count": 10,
   "id": "353f29f4-bf33-427a-a37d-14685cfdd584",
   "metadata": {},
   "outputs": [
    {
     "name": "stderr",
     "output_type": "stream",
     "text": [
      "Map: 100%|██████████████████████████████████████████████████████████████████| 872/872 [00:00<00:00, 4540.07 examples/s]\n"
     ]
    }
   ],
   "source": [
    "tokenized_train = train_dataset_small.map(preprocess_func,batched=True)\n",
    "tokenized_eval = dataset[\"validation\"].map(preprocess_func,batched = True)"
   ]
  },
  {
   "cell_type": "code",
   "execution_count": 13,
   "id": "a3b1b964-0c4c-4190-8258-3ea76cacbc04",
   "metadata": {},
   "outputs": [],
   "source": [
    "bnb_config = BitsAndBytesConfig(\n",
    "    load_in_4bit=True,\n",
    "    bnb_4bit_quant_type=\"nf4\",\n",
    "    bnb_4bit_compute_dtype=torch.float16,\n",
    "    bnb_4bit_use_double_quant=True\n",
    ")"
   ]
  },
  {
   "cell_type": "code",
   "execution_count": 14,
   "id": "957ead22-9f93-4131-99a2-99b19b629c8f",
   "metadata": {},
   "outputs": [
    {
     "name": "stderr",
     "output_type": "stream",
     "text": [
      "Some weights of BertForSequenceClassification were not initialized from the model checkpoint at bert-base-uncased and are newly initialized: ['classifier.bias', 'classifier.weight']\n",
      "You should probably TRAIN this model on a down-stream task to be able to use it for predictions and inference.\n"
     ]
    }
   ],
   "source": [
    "model = AutoModelForSequenceClassification.from_pretrained(\n",
    "    \"bert-base-uncased\",\n",
    "    quantization_config=bnb_config,\n",
    "    num_labels=2,\n",
    "    id2label={0: \"NEGATIVE\", 1: \"POSITIVE\"},\n",
    "    label2id={\"NEGATIVE\": 0, \"POSITIVE\": 1}\n",
    ")"
   ]
  },
  {
   "cell_type": "code",
   "execution_count": 15,
   "id": "efdc9ce6-4ce5-43a9-8e42-b7795856e47b",
   "metadata": {},
   "outputs": [],
   "source": [
    "model = prepare_model_for_kbit_training(model)"
   ]
  },
  {
   "cell_type": "code",
   "execution_count": 16,
   "id": "9cfc769e-3d85-4bc1-864c-fa219db4a94e",
   "metadata": {},
   "outputs": [],
   "source": [
    "lora_config = LoraConfig(\n",
    "    r=8,\n",
    "    lora_alpha=16,\n",
    "    target_modules=[\"query\", \"key\", \"value\"],\n",
    "    lora_dropout=0.05,\n",
    "    bias=\"none\",\n",
    "    task_type=TaskType.SEQ_CLS\n",
    ")"
   ]
  },
  {
   "cell_type": "code",
   "execution_count": 17,
   "id": "cbc51cec-79f2-4621-a3fc-4a78210f01f1",
   "metadata": {},
   "outputs": [],
   "source": [
    "model = get_peft_model(model, lora_config)"
   ]
  },
  {
   "cell_type": "code",
   "execution_count": 18,
   "id": "08b22ce3-3243-420b-b227-0dc853b6b823",
   "metadata": {},
   "outputs": [
    {
     "name": "stdout",
     "output_type": "stream",
     "text": [
      "trainable params: 443,906 || all params: 109,927,684 || trainable%: 0.4038\n"
     ]
    }
   ],
   "source": [
    "model.print_trainable_parameters()"
   ]
  },
  {
   "cell_type": "code",
   "execution_count": 20,
   "id": "da76c96b-283c-4641-bfbc-9a7ce4d6fcc1",
   "metadata": {},
   "outputs": [],
   "source": [
    "def compute_metrics(eval_pred):\n",
    "    predictions,labels = eval_pred\n",
    "    predictions = np.argmax(predictions,axis = 1)\n",
    "    return metric_accuracy.compute(predictions=predictions,references=labels)"
   ]
  },
  {
   "cell_type": "code",
   "execution_count": 21,
   "id": "7c6991f7-6478-4b5c-9709-8e43ba1e3e18",
   "metadata": {},
   "outputs": [],
   "source": [
    "training_args = TrainingArguments(\n",
    "    output_dir=\"./result_bert_qlora_sst2\",\n",
    "    learning_rate=3e-4,\n",
    "    per_device_train_batch_size=4,  \n",
    "    per_device_eval_batch_size=8,\n",
    "    num_train_epochs=5,\n",
    "    weight_decay=0.01,\n",
    "    eval_strategy=\"epoch\",\n",
    "    save_strategy=\"epoch\",\n",
    "    logging_dir=\"./logs_qlora\",\n",
    "    logging_steps=10,\n",
    "    load_best_model_at_end=True,\n",
    "    metric_for_best_model=\"eval_accuracy\",\n",
    "    report_to=\"none\",\n",
    "    seed=42,\n",
    "    fp16=True  \n",
    ")\n",
    "\n",
    "\n",
    "trainer = Trainer(\n",
    "    model=model,\n",
    "    args=training_args,\n",
    "    train_dataset=tokenized_train,\n",
    "    eval_dataset=tokenized_eval,\n",
    "    tokenizer=tokenizer,\n",
    "    data_collator=DataCollatorWithPadding(tokenizer=tokenizer),\n",
    "    compute_metrics=compute_metrics\n",
    ")\n"
   ]
  },
  {
   "cell_type": "code",
   "execution_count": 22,
   "id": "273153c2-dc9e-4c90-8541-cb08f20f95e5",
   "metadata": {},
   "outputs": [
    {
     "data": {
      "text/html": [
       "\n",
       "    <div>\n",
       "      \n",
       "      <progress value='640' max='640' style='width:300px; height:20px; vertical-align: middle;'></progress>\n",
       "      [640/640 10:25:35, Epoch 5/5]\n",
       "    </div>\n",
       "    <table border=\"1\" class=\"dataframe\">\n",
       "  <thead>\n",
       " <tr style=\"text-align: left;\">\n",
       "      <th>Epoch</th>\n",
       "      <th>Training Loss</th>\n",
       "      <th>Validation Loss</th>\n",
       "      <th>Accuracy</th>\n",
       "    </tr>\n",
       "  </thead>\n",
       "  <tbody>\n",
       "    <tr>\n",
       "      <td>1</td>\n",
       "      <td>0.613500</td>\n",
       "      <td>0.544188</td>\n",
       "      <td>0.713303</td>\n",
       "    </tr>\n",
       "    <tr>\n",
       "      <td>2</td>\n",
       "      <td>0.498100</td>\n",
       "      <td>0.449202</td>\n",
       "      <td>0.841743</td>\n",
       "    </tr>\n",
       "    <tr>\n",
       "      <td>3</td>\n",
       "      <td>0.133200</td>\n",
       "      <td>0.459764</td>\n",
       "      <td>0.850917</td>\n",
       "    </tr>\n",
       "    <tr>\n",
       "      <td>4</td>\n",
       "      <td>0.437300</td>\n",
       "      <td>0.505042</td>\n",
       "      <td>0.864679</td>\n",
       "    </tr>\n",
       "    <tr>\n",
       "      <td>5</td>\n",
       "      <td>0.044600</td>\n",
       "      <td>0.518418</td>\n",
       "      <td>0.854358</td>\n",
       "    </tr>\n",
       "  </tbody>\n",
       "</table><p>"
      ],
      "text/plain": [
       "<IPython.core.display.HTML object>"
      ]
     },
     "metadata": {},
     "output_type": "display_data"
    },
    {
     "data": {
      "text/plain": [
       "TrainOutput(global_step=640, training_loss=0.40482987463474274, metrics={'train_runtime': 37586.75, 'train_samples_per_second': 0.068, 'train_steps_per_second': 0.017, 'total_flos': 74052925685760.0, 'train_loss': 0.40482987463474274, 'epoch': 5.0})"
      ]
     },
     "execution_count": 22,
     "metadata": {},
     "output_type": "execute_result"
    }
   ],
   "source": [
    "trainer.train()"
   ]
  },
  {
   "cell_type": "code",
   "execution_count": 23,
   "id": "16384244-673c-431e-b7cf-f74cd794808a",
   "metadata": {},
   "outputs": [
    {
     "data": {
      "text/html": [
       "\n",
       "    <div>\n",
       "      \n",
       "      <progress value='109' max='109' style='width:300px; height:20px; vertical-align: middle;'></progress>\n",
       "      [109/109 16:24]\n",
       "    </div>\n",
       "    "
      ],
      "text/plain": [
       "<IPython.core.display.HTML object>"
      ]
     },
     "metadata": {},
     "output_type": "display_data"
    },
    {
     "name": "stdout",
     "output_type": "stream",
     "text": [
      "QLoRA: {'eval_loss': 0.5050415396690369, 'eval_accuracy': 0.8646788990825688, 'eval_runtime': 993.8885, 'eval_samples_per_second': 0.877, 'eval_steps_per_second': 0.11, 'epoch': 5.0}\n"
     ]
    }
   ],
   "source": [
    "trainer.save_model(\"./MY_Bert_QLoRa_Model\")\n",
    "\n",
    "\n",
    "qlora_result = trainer.evaluate()\n",
    "print(\"QLoRA:\", qlora_result)"
   ]
  },
  {
   "cell_type": "code",
   "execution_count": null,
   "id": "0283fb88-2cdb-4f48-b384-be544c08cec1",
   "metadata": {},
   "outputs": [],
   "source": []
  }
 ],
 "metadata": {
  "kernelspec": {
   "display_name": "Python 3 (ipykernel)",
   "language": "python",
   "name": "python3"
  },
  "language_info": {
   "codemirror_mode": {
    "name": "ipython",
    "version": 3
   },
   "file_extension": ".py",
   "mimetype": "text/x-python",
   "name": "python",
   "nbconvert_exporter": "python",
   "pygments_lexer": "ipython3",
   "version": "3.13.5"
  }
 },
 "nbformat": 4,
 "nbformat_minor": 5
}
